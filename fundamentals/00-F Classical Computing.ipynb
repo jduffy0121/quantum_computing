{
 "cells": [
  {
   "metadata": {},
   "cell_type": "markdown",
   "source": "# 00 Classical Computing",
   "id": "c049b4ff2ae3a22b"
  },
  {
   "metadata": {
    "collapsed": true
   },
   "cell_type": "code",
   "outputs": [],
   "execution_count": null,
   "source": "",
   "id": "initial_id"
  },
  {
   "metadata": {},
   "cell_type": "markdown",
   "source": "# Time Complexity",
   "id": "3145285260266c91"
  },
  {
   "metadata": {},
   "cell_type": "markdown",
   "source": "Text",
   "id": "318c6e7007a895b5"
  },
  {
   "metadata": {},
   "cell_type": "code",
   "outputs": [],
   "execution_count": null,
   "source": "",
   "id": "a9da9e368c528e7c"
  },
  {
   "metadata": {},
   "cell_type": "markdown",
   "source": "# Error Correcting Code",
   "id": "8d12f55b3f5e4d91"
  },
  {
   "metadata": {},
   "cell_type": "markdown",
   "source": "Text",
   "id": "e321c8787b91822f"
  },
  {
   "metadata": {},
   "cell_type": "code",
   "outputs": [],
   "execution_count": null,
   "source": "",
   "id": "63984b51d3ef4a16"
  }
 ],
 "metadata": {
  "kernelspec": {
   "display_name": "Python 3",
   "language": "python",
   "name": "python3"
  },
  "language_info": {
   "codemirror_mode": {
    "name": "ipython",
    "version": 2
   },
   "file_extension": ".py",
   "mimetype": "text/x-python",
   "name": "python",
   "nbconvert_exporter": "python",
   "pygments_lexer": "ipython2",
   "version": "2.7.6"
  }
 },
 "nbformat": 4,
 "nbformat_minor": 5
}
