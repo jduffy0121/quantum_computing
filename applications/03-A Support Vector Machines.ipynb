{
 "cells": [
  {
   "metadata": {},
   "cell_type": "markdown",
   "source": "# 03 Support Vector Machines",
   "id": "ce93edb113b6bddf"
  },
  {
   "metadata": {
    "collapsed": true
   },
   "cell_type": "code",
   "outputs": [],
   "execution_count": null,
   "source": [
    "import os\n",
    "import time\n",
    "import pandas as pd\n",
    "import matplotlib.pyplot as plt\n",
    "from ucimlrepo import fetch_ucirepo\n",
    "from sklearn.svm import SVC\n",
    "from sklearn.model_selection import train_test_split\n",
    "from sklearn.model_selection import cross_val_score\n",
    "from sklearn.preprocessing import StandardScaler, LabelEncoder\n",
    "from sklearn.inspection import DecisionBoundaryDisplay\n",
    "from sklearn.metrics import classification_report, accuracy_score"
   ],
   "id": "initial_id"
  },
  {
   "metadata": {},
   "cell_type": "markdown",
   "source": "# Classical Implementation",
   "id": "7c9a1c3a1755d9ac"
  },
  {
   "metadata": {},
   "cell_type": "markdown",
   "source": "Text",
   "id": "f2574038efe8e30b"
  },
  {
   "metadata": {
    "ExecuteTime": {
     "end_time": "2025-04-11T19:43:55.558Z",
     "start_time": "2025-04-11T19:43:55.554215Z"
    }
   },
   "cell_type": "code",
   "source": [
    "params = {\n",
    "    'kernel': 'rbf', # 'rbf','linear', 'poly', 'sigmoid'\n",
    "    'C': 1,\n",
    "    'dir': '',\n",
    "}"
   ],
   "id": "85843172fd9799da",
   "outputs": [],
   "execution_count": 1
  },
  {
   "metadata": {},
   "cell_type": "code",
   "outputs": [],
   "execution_count": null,
   "source": [
    "os.makedirs(f\"{os.getcwd()}/data\", exist_ok=True)\n",
    "\n",
    "if not os.path.exists(f\"{os.getcwd()}/data/iris.csv\"):\n",
    "  print(\"Downloading iris dataset...\")\n",
    "  iris = fetch_ucirepo(id=53)\n",
    "\n",
    "  X = iris.data.features\n",
    "  Y = iris.data.targets['class']\n",
    "  print(\"Saving iris dataset to ~/data/iris.csv...\")\n",
    "  pd.concat([X, Y], axis=1).to_csv(f'{os.getcwd()}/data/iris.csv', index=False)\n",
    "else:\n",
    "  print(\"Loading iris dataset from ~/data/iris.csv...\")\n",
    "  iris_df = pd.read_csv(f'{os.getcwd()}/data/iris.csv')\n",
    "  X = iris_df.drop('class', axis=1)\n",
    "  Y = iris_df['class']\n",
    "\n",
    "print(\"\\nx type:\", type(X))\n",
    "print(\"y type:\", type(Y))\n",
    "print(\"\\nFirst few rows of x:\\n\", X.head())\n",
    "print(\"\\nFirst few rows of y:\\n\", Y.head())"
   ],
   "id": "c3325f8ecf451839"
  },
  {
   "metadata": {},
   "cell_type": "code",
   "outputs": [],
   "execution_count": null,
   "source": [
    "X_train, X_test, y_train, y_test = train_test_split(X, Y, test_size=0.2, random_state=42)\n",
    "\n",
    "scaler = StandardScaler()\n",
    "X_train_scaled = scaler.fit_transform(X_train)\n",
    "X_test_scaled = scaler.transform(X_test)\n",
    "\n",
    "svm = SVC(kernel=params['kernel'], C=params['C'], random_state=42)\n",
    "\n",
    "cv_scores = cross_val_score(svm, X_train_scaled, y_train, cv=5)\n",
    "\n",
    "print(\"Cross-validation scores for each fold:\", cv_scores)\n",
    "print(\"\\nAverage cross-validation score:\", cv_scores.mean())\n",
    "print(\"Standard deviation of cross-validation scores:\", cv_scores.std())\n",
    "\n",
    "start_time = time.time()\n",
    "svm.fit(X_train_scaled, y_train)\n",
    "end_time = time.time()\n",
    "\n",
    "training_time = end_time - start_time\n",
    "print(f\"\\nModel training time: {training_time:.4f} seconds\")\n",
    "\n",
    "y_pred = svm.predict(X_test_scaled)\n",
    "\n",
    "print(\"\\nClassification Report:\\n\", classification_report(y_test, y_pred))\n",
    "print(\"\\nAccuracy on test set:\", accuracy_score(y_test, y_pred))"
   ],
   "id": "248e8dac91d667f"
  },
  {
   "metadata": {},
   "cell_type": "code",
   "outputs": [],
   "execution_count": null,
   "source": "del params, X_train, X_test, y_train, y_test, scaler, X_train_scaled, X_test_scaled, svm, cv_scores, start_time, end_time, training_time, y_pred",
   "id": "e41e39c7ffa09d2a"
  },
  {
   "metadata": {},
   "cell_type": "code",
   "outputs": [],
   "execution_count": null,
   "source": [
    "params = {\n",
    "  'kernel': ['rbf','linear', 'poly', 'sigmoid'], # ['rbf','linear', 'poly', 'sigmoid']\n",
    "  'C': [1],\n",
    "}"
   ],
   "id": "91bf7afa7ddd943c"
  },
  {
   "metadata": {},
   "cell_type": "code",
   "outputs": [],
   "execution_count": null,
   "source": [
    "X_split = X.iloc[:, :2]\n",
    "\n",
    "label_encoder = LabelEncoder()\n",
    "y_encoded = label_encoder.fit_transform(Y)\n",
    "\n",
    "X_train, X_test, y_train, y_test = train_test_split(X_split, y_encoded, test_size=0.2, random_state=42)\n",
    "\n",
    "scaler = StandardScaler()\n",
    "X_train_scaled = scaler.fit_transform(X_train)\n",
    "X_test_scaled = scaler.transform(X_test)"
   ],
   "id": "a5e355dbd8227116"
  },
  {
   "metadata": {},
   "cell_type": "code",
   "outputs": [],
   "execution_count": null,
   "source": [
    "def run_svm_experiment(kernel, c, X_train_scaled, X_test_scaled, y_train, y_test):\n",
    "    title_map = {\n",
    "      'rbf': 'SVM with RBF Kernel',\n",
    "      'linear': 'SVM with Linear Kernel',\n",
    "      'poly': 'SVM with Polynomial Kernel',\n",
    "      'sigmoid': 'SVM with Sigmoid Kernel'\n",
    "    }\n",
    "    svm = SVC(kernel=f'{kernel}', C=c, random_state=42)\n",
    "    start_time = time.time()\n",
    "    svm.fit(X_train_scaled, y_train)\n",
    "    end_time = time.time()\n",
    "    training_time = end_time - start_time\n",
    "    y_pred = svm.predict(X_test_scaled)\n",
    "\n",
    "    plt.figure(figsize=(10, 6))\n",
    "\n",
    "    DecisionBoundaryDisplay.from_estimator(\n",
    "      svm,\n",
    "      X_train_scaled,\n",
    "      response_method=\"predict\",\n",
    "      cmap=plt.cm.coolwarm,\n",
    "      alpha=0.75\n",
    "    )\n",
    "\n",
    "    scatter_train = plt.scatter(X_train_scaled[:, 0], X_train_scaled[:, 1], c=y_train, marker='o', s=50, cmap=plt.cm.coolwarm)\n",
    "    scatter_test = plt.scatter(X_test_scaled[:, 0], X_test_scaled[:, 1], c=y_test, marker='x', s=100, cmap=plt.cm.coolwarm)\n",
    "\n",
    "    plt.xlabel('Sepal length (cm)')\n",
    "    plt.ylabel('Sepal width (cm)')\n",
    "    plt.title(f'{title_map[f\"{kernel}\"]}')\n",
    "\n",
    "    handles, labels = scatter_train.legend_elements()\n",
    "    handles_class, labels_class = scatter_train.legend_elements()\n",
    "    train_handle = plt.Line2D([0], [0], marker='o', color='w', markerfacecolor='black', markersize=10, label='Train')\n",
    "    test_handle = plt.Line2D([0], [0], marker='x', color='w', markerfacecolor='black', markersize=10, label='Test')\n",
    "    handles = handles_class + [train_handle, test_handle]\n",
    "    labels = labels_class + ['Train', 'Test']\n",
    "    plt.legend(handles=handles, labels=labels, loc=\"upper left\")\n",
    "\n",
    "    print(f\"\\nModel training time: {training_time:.4f} seconds\")\n",
    "    print(\"\\nClassification Report:\\n\", classification_report(y_test, y_pred))\n",
    "    print(\"\\nAccuracy on test set:\", accuracy_score(y_test, y_pred))\n",
    "\n",
    "    os.makedirs(f\"{os.getcwd()}/plots\", exist_ok=True)\n",
    "    plot_filename = os.path.join(f\"{os.getcwd()}/plots\", f\"svm_{kernel}_c{c}.png\")\n",
    "    print(f\"\\nSaving plot to {plot_filename}...\")\n",
    "    plt.savefig(plot_filename)\n",
    "\n",
    "    plt.show()"
   ],
   "id": "3caf5a5e836bc438"
  },
  {
   "metadata": {},
   "cell_type": "code",
   "outputs": [],
   "execution_count": null,
   "source": [
    "for kernel in params['kernel']:\n",
    "  for c in params['C']:\n",
    "    if kernel not in ['rbf','linear', 'poly', 'sigmoid']:\n",
    "      print(f\"Skipping invalid kernel: {kernel}\")\n",
    "      continue\n",
    "    if not isinstance(c, (float, int)):\n",
    "      print(f\"Skipping invalid C: {c}\")\n",
    "      continue\n",
    "    run_svm_experiment(kernel=kernel,\n",
    "                       c = c,\n",
    "                       X_train_scaled=X_train_scaled,\n",
    "                       X_test_scaled=X_test_scaled,\n",
    "                       y_train=y_train,\n",
    "                       y_test=y_test)"
   ],
   "id": "6cc72e1827ba927"
  },
  {
   "metadata": {},
   "cell_type": "markdown",
   "source": "# Quantum Implementation",
   "id": "c61a2e6a6b96672e"
  },
  {
   "metadata": {},
   "cell_type": "markdown",
   "source": "Text",
   "id": "37f288e247d78178"
  },
  {
   "metadata": {},
   "cell_type": "code",
   "outputs": [],
   "execution_count": null,
   "source": "",
   "id": "7540060161c876e8"
  }
 ],
 "metadata": {
  "kernelspec": {
   "display_name": "Python 3",
   "language": "python",
   "name": "python3"
  },
  "language_info": {
   "codemirror_mode": {
    "name": "ipython",
    "version": 2
   },
   "file_extension": ".py",
   "mimetype": "text/x-python",
   "name": "python",
   "nbconvert_exporter": "python",
   "pygments_lexer": "ipython2",
   "version": "2.7.6"
  }
 },
 "nbformat": 4,
 "nbformat_minor": 5
}
