{
 "cells": [
  {
   "metadata": {},
   "cell_type": "markdown",
   "source": "# 01 Fourier Transforms",
   "id": "c7acb0b0d6d0d20"
  },
  {
   "metadata": {},
   "cell_type": "code",
   "outputs": [],
   "execution_count": null,
   "source": "",
   "id": "245b71531426361d"
  },
  {
   "metadata": {},
   "cell_type": "markdown",
   "source": "# Classical Implementation",
   "id": "94d9e63916ac36a2"
  },
  {
   "metadata": {},
   "cell_type": "markdown",
   "source": "Text",
   "id": "13a0ca1488a1a11"
  },
  {
   "metadata": {
    "collapsed": true
   },
   "cell_type": "code",
   "outputs": [],
   "execution_count": null,
   "source": "",
   "id": "initial_id"
  },
  {
   "metadata": {},
   "cell_type": "markdown",
   "source": "# Quantum Implementation",
   "id": "d900589b388e4af"
  },
  {
   "metadata": {},
   "cell_type": "markdown",
   "source": "Text",
   "id": "ed8ba7a9d9b6a780"
  },
  {
   "metadata": {},
   "cell_type": "code",
   "outputs": [],
   "execution_count": null,
   "source": "",
   "id": "8bdd73713c85a3b6"
  }
 ],
 "metadata": {
  "kernelspec": {
   "display_name": "Python 3",
   "language": "python",
   "name": "python3"
  },
  "language_info": {
   "codemirror_mode": {
    "name": "ipython",
    "version": 2
   },
   "file_extension": ".py",
   "mimetype": "text/x-python",
   "name": "python",
   "nbconvert_exporter": "python",
   "pygments_lexer": "ipython2",
   "version": "2.7.6"
  }
 },
 "nbformat": 4,
 "nbformat_minor": 5
}
