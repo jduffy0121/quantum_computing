{
 "cells": [
  {
   "metadata": {},
   "cell_type": "markdown",
   "source": "# 02 Linear Equation Solver",
   "id": "78a0143bac02a4aa"
  },
  {
   "cell_type": "code",
   "id": "initial_id",
   "metadata": {
    "collapsed": true,
    "ExecuteTime": {
     "end_time": "2025-04-11T20:03:01.687453Z",
     "start_time": "2025-04-11T20:03:01.685358Z"
    }
   },
   "source": "import numpy as np",
   "outputs": [],
   "execution_count": 11
  },
  {
   "metadata": {},
   "cell_type": "markdown",
   "source": "# Classical Implementation",
   "id": "1a1c28be33528e6e"
  },
  {
   "metadata": {},
   "cell_type": "markdown",
   "source": "Text",
   "id": "e8fb4e9aaf8377fd"
  },
  {
   "metadata": {
    "ExecuteTime": {
     "end_time": "2025-04-11T20:02:59.376311Z",
     "start_time": "2025-04-11T20:02:59.374286Z"
    }
   },
   "cell_type": "code",
   "source": [
    "def qr_decomposition(A):\n",
    "    m, n = A.shape\n",
    "    Q = np.zeros((m, n))\n",
    "    R = np.zeros((n, n))\n",
    "\n",
    "    for j in range(n):\n",
    "        v = A[:, j]\n",
    "\n",
    "        for i in range(j):\n",
    "            R[i, j] = np.dot(Q[:, i], A[:, j])\n",
    "            v = v - R[i, j] * Q[:, i]\n",
    "\n",
    "        R[j, j] = np.linalg.norm(v)\n",
    "        Q[:, j] = v / R[j, j]\n",
    "\n",
    "    return Q, R"
   ],
   "id": "32ddae94e5803e6",
   "outputs": [],
   "execution_count": 10
  },
  {
   "metadata": {
    "ExecuteTime": {
     "end_time": "2025-04-11T20:02:56.244020Z",
     "start_time": "2025-04-11T20:02:56.241116Z"
    }
   },
   "cell_type": "code",
   "source": [
    "def solve_linear_system_qr(A, b):\n",
    "    Q, R = qr_decomposition(A)\n",
    "    y = Q.T @ b\n",
    "    x = np.linalg.solve(R, y)\n",
    "    return x"
   ],
   "id": "990037241d45b367",
   "outputs": [],
   "execution_count": 9
  },
  {
   "metadata": {
    "ExecuteTime": {
     "end_time": "2025-04-11T20:02:53.771429Z",
     "start_time": "2025-04-11T20:02:53.768214Z"
    }
   },
   "cell_type": "code",
   "source": [
    "A = np.array([[1.0, 1.0], [1.0, -1.0]])\n",
    "b = np.array([2.0, 0.0])\n",
    "\n",
    "x = solve_linear_system_qr(A, b)\n",
    "print(\"Solution x:\", x)\n",
    "print(\"Check with np.linalg.solve:\", np.linalg.solve(A, b))"
   ],
   "id": "65628a99997d2288",
   "outputs": [
    {
     "name": "stdout",
     "output_type": "stream",
     "text": [
      "Solution x: [1. 1.]\n",
      "Check with np.linalg.solve: [1. 1.]\n"
     ]
    }
   ],
   "execution_count": 8
  },
  {
   "metadata": {},
   "cell_type": "markdown",
   "source": "# Quantum Implementation",
   "id": "7854f48c37480d91"
  },
  {
   "metadata": {},
   "cell_type": "markdown",
   "source": "Text",
   "id": "7d6815d19cdbd29a"
  },
  {
   "metadata": {},
   "cell_type": "code",
   "outputs": [],
   "execution_count": null,
   "source": "",
   "id": "1e90f2cc4a36ec52"
  }
 ],
 "metadata": {
  "kernelspec": {
   "display_name": "Python 3",
   "language": "python",
   "name": "python3"
  },
  "language_info": {
   "codemirror_mode": {
    "name": "ipython",
    "version": 2
   },
   "file_extension": ".py",
   "mimetype": "text/x-python",
   "name": "python",
   "nbconvert_exporter": "python",
   "pygments_lexer": "ipython2",
   "version": "2.7.6"
  }
 },
 "nbformat": 4,
 "nbformat_minor": 5
}
